{
 "cells": [
  {
   "cell_type": "code",
   "execution_count": null,
   "metadata": {},
   "outputs": [],
   "source": [
    "!pip install firebase"
   ]
  },
  {
   "cell_type": "code",
   "execution_count": 1,
   "metadata": {},
   "outputs": [],
   "source": [
    "import firebase_admin"
   ]
  },
  {
   "cell_type": "code",
   "execution_count": 2,
   "metadata": {},
   "outputs": [],
   "source": [
    "from firebase_admin import credentials\n",
    "from firebase_admin import firestore"
   ]
  },
  {
   "cell_type": "code",
   "execution_count": 3,
   "metadata": {},
   "outputs": [
    {
     "data": {
      "text/plain": [
       "<firebase_admin.App at 0x260a428c640>"
      ]
     },
     "execution_count": 3,
     "metadata": {},
     "output_type": "execute_result"
    }
   ],
   "source": [
    "cred = credentials.Certificate(\"student-db-fcf4d-firebase-adminsdk-lg6sn-da274baa4e.json\")\n",
    "firebase_admin.initialize_app(cred)"
   ]
  },
  {
   "cell_type": "code",
   "execution_count": 15,
   "metadata": {},
   "outputs": [],
   "source": [
    "db = firestore.client()"
   ]
  },
  {
   "cell_type": "code",
   "execution_count": 16,
   "metadata": {},
   "outputs": [],
   "source": [
    "def enterDataInDB(firstname,lastname,age):\n",
    "    doc_ref = db.collection(u'Student-DB').document()\n",
    "    \n",
    "    dit = {}\n",
    "    dit[\"firstName\"] = firstname\n",
    "    dit[\"lastName\"] = lastname\n",
    "    dit[\"age\"] = age\n",
    "    \n",
    "    doc_ref.set(dit)\n",
    "    "
   ]
  },
  {
   "cell_type": "code",
   "execution_count": 17,
   "metadata": {},
   "outputs": [],
   "source": [
    "enterDataInDB(\"Siva\",\"Rajan\",20)"
   ]
  },
  {
   "cell_type": "code",
   "execution_count": 18,
   "metadata": {},
   "outputs": [],
   "source": [
    "enterDataInDB(\"Ram\",\"Kumar\",21)"
   ]
  },
  {
   "cell_type": "code",
   "execution_count": 19,
   "metadata": {},
   "outputs": [],
   "source": [
    "enterDataInDB(\"Sam\",\"Raj\",21)"
   ]
  },
  {
   "cell_type": "code",
   "execution_count": 20,
   "metadata": {},
   "outputs": [],
   "source": [
    "enterDataInDB(\"Dev\",\"Patel\",20)"
   ]
  },
  {
   "cell_type": "code",
   "execution_count": 21,
   "metadata": {},
   "outputs": [
    {
     "name": "stdout",
     "output_type": "stream",
     "text": [
      "ID -  A1owYzQLNaVDQDmrjWXP\n",
      "First Name -  Ram\n",
      "Last Name -  Kumar\n",
      "Age -  21\n",
      "---------------\n",
      "---------------\n",
      "ID -  LKc6dO4JNe4t3TXYW427\n",
      "First Name -  Dev\n",
      "Last Name -  Patel\n",
      "Age -  20\n",
      "---------------\n",
      "---------------\n",
      "ID -  VIJqLPvV7pyDBWx44sSE\n",
      "First Name -  Siva\n",
      "Last Name -  Rajan\n",
      "Age -  20\n",
      "---------------\n",
      "---------------\n",
      "ID -  zttCCau4GPPxyRcnrgwX\n",
      "First Name -  Sam\n",
      "Last Name -  Raj\n",
      "Age -  21\n",
      "---------------\n",
      "---------------\n"
     ]
    }
   ],
   "source": [
    "docs = db.collection(u'Student-DB').stream()\n",
    "\n",
    "for doc in docs:     \n",
    "    print(\"ID - \", doc.id)\n",
    "    \n",
    "    print(\"First Name - \", doc.to_dict().get(\"firstName\"))\n",
    "    print(\"Last Name - \", doc.to_dict().get(\"lastName\"))\n",
    "    print(\"Age - \", doc.to_dict().get(\"age\") )\n",
    "    \n",
    "    print(\"---------------\")\n",
    "    print(\"---------------\")"
   ]
  },
  {
   "cell_type": "code",
   "execution_count": 22,
   "metadata": {},
   "outputs": [],
   "source": [
    "def updateDatainDB(uid, updatedAge):\n",
    "    doc_ref = db.collection(u'Student-DB').document(uid)\n",
    "    \n",
    "    doc_ref.update({\"age\":updatedAge})"
   ]
  },
  {
   "cell_type": "code",
   "execution_count": 23,
   "metadata": {},
   "outputs": [],
   "source": [
    "updateDatainDB(\"A1owYzQLNaVDQDmrjWXP\",20)"
   ]
  },
  {
   "cell_type": "code",
   "execution_count": 24,
   "metadata": {},
   "outputs": [],
   "source": [
    "updateDatainDB(\"LKc6dO4JNe4t3TXYW427\",21)"
   ]
  },
  {
   "cell_type": "code",
   "execution_count": 26,
   "metadata": {},
   "outputs": [],
   "source": [
    "def deleteDataInDB(uid):\n",
    "    db.collection(u'Student-DB').document(uid).delete()"
   ]
  },
  {
   "cell_type": "code",
   "execution_count": 27,
   "metadata": {},
   "outputs": [],
   "source": [
    "deleteDataInDB(\"zttCCau4GPPxyRcnrgwX\")"
   ]
  }
 ],
 "metadata": {
  "kernelspec": {
   "display_name": "Python 3",
   "language": "python",
   "name": "python3"
  },
  "language_info": {
   "codemirror_mode": {
    "name": "ipython",
    "version": 3
   },
   "file_extension": ".py",
   "mimetype": "text/x-python",
   "name": "python",
   "nbconvert_exporter": "python",
   "pygments_lexer": "ipython3",
   "version": "3.8.3"
  }
 },
 "nbformat": 4,
 "nbformat_minor": 4
}
