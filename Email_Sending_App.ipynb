{
 "cells": [
  {
   "cell_type": "markdown",
   "metadata": {},
   "source": [
    "Do the project - Email sending using python and upload it in Github"
   ]
  },
  {
   "cell_type": "code",
   "execution_count": null,
   "metadata": {},
   "outputs": [],
   "source": [
    "!pip install emails"
   ]
  },
  {
   "cell_type": "code",
   "execution_count": 38,
   "metadata": {},
   "outputs": [],
   "source": [
    "import emails"
   ]
  },
  {
   "cell_type": "code",
   "execution_count": 39,
   "metadata": {},
   "outputs": [],
   "source": [
    "def send_mail(email,name):\n",
    "    html_text = '''<p><strong>Hey friend ,</strong></p>\n",
    "                   <p style=\"text-align: justify;\">&nbsp; &nbsp; &nbsp; &nbsp; &nbsp; &nbsp; &nbsp; &nbsp; &nbsp;<em><span style=\"font-size: 20px; font-family: Georgia, serif; color: rgb(209, 72, 65);\">Hope you are ok. I am doing good.</span></em></p>\n",
    "                   <p style=\"text-align: justify;\"><span style=\"color: rgb(209, 72, 65);\"><span style=\"font-family: Georgia, serif;\"><span style=\"font-size: 20px;\"><em><br></em></span></span></span></p>\n",
    "                   <p style=\"text-align: justify;\"><span style=\"color: rgb(209, 72, 65);\"><span style=\"font-family: Georgia, serif;\"><span style=\"font-size: 20px;\"><em>&nbsp; &nbsp; &nbsp; &nbsp; &nbsp; &nbsp; &nbsp; &nbsp; I am returning next week.</em></span></span></span></p>\n",
    "                   <p style=\"text-align: justify;\"><span style=\"color: rgb(209, 72, 65);\"><span style=\"font-family: Georgia, serif;\"><span style=\"font-size: 20px;\"><em><br></em></span></span></span></p>\n",
    "                   <p style=\"text-align: justify;\"><span style=\"font-family: Georgia, serif;\"><em><span style=\"font-size: 20px; color: rgb(209, 72, 65);\">&nbsp; &nbsp; &nbsp; &nbsp; &nbsp; &nbsp; &nbsp; &nbsp; I am hoping to see you</span></em>.</span></p>\n",
    "                   <p><br></p>\n",
    "                   <p><strong>Bye</strong></p>\n",
    "                   <p><strong>Friend</strong></p>'''\n",
    "    \n",
    "    \n",
    "    \n",
    "    subject = \"Hey you have recieved an email\"\n",
    "    message = emails.html(html = html_text,\n",
    "                     subject = subject,\n",
    "                     mail_from = (\"abc\" , \"xyz@gmail.com\"))#Sender name and mail-id\n",
    "    \n",
    "\n",
    "    \n",
    "    mail_via_python = message.send(to = email ,\n",
    "                               smtp = {\"host\" : \"smtp.gmail.com\",\n",
    "                                       \"timeout\" : 5,\n",
    "                                      \"port\" : 587,\n",
    "                                      \"user\" : \" sands1467@gmail.com\",#Senders username inside \"\"\n",
    "                                       \"password\" : \"12@456\",#Senders password  \"\"\n",
    "                                       \"tls\" : True})\n",
    "    return mail_via_python.status_code"
   ]
  },
  {
   "cell_type": "code",
   "execution_count": 40,
   "metadata": {},
   "outputs": [],
   "source": [
    "send_mail(\"decev74060@95ta.com\",\"IJK\")#Reciever mail-id and name"
   ]
  },
  {
   "cell_type": "code",
   "execution_count": null,
   "metadata": {},
   "outputs": [],
   "source": []
  }
 ],
 "metadata": {
  "kernelspec": {
   "display_name": "Python 3",
   "language": "python",
   "name": "python3"
  },
  "language_info": {
   "codemirror_mode": {
    "name": "ipython",
    "version": 3
   },
   "file_extension": ".py",
   "mimetype": "text/x-python",
   "name": "python",
   "nbconvert_exporter": "python",
   "pygments_lexer": "ipython3",
   "version": "3.8.3"
  }
 },
 "nbformat": 4,
 "nbformat_minor": 4
}
