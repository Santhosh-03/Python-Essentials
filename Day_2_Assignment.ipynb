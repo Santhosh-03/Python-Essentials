{
 "cells": [
  {
   "cell_type": "raw",
   "metadata": {},
   "source": [
    "Question 1:Try 5 Different functions of the String in Python."
   ]
  },
  {
   "cell_type": "code",
   "execution_count": 35,
   "metadata": {},
   "outputs": [
    {
     "name": "stdout",
     "output_type": "stream",
     "text": [
      "Original string is : Lets Upgrade Python Essentials\n",
      "\n",
      "Output of upper() is : LETS UPGRADE PYTHON ESSENTIALS\n",
      "Output of endswith() is : True\n",
      "Output of swapcase() is : lETS uPGRADE pYTHON eSSENTIALS\n",
      "Output of lower() is : lets upgrade python essentials\n",
      "Output of strip() is : False\n"
     ]
    }
   ],
   "source": [
    "string = \"Lets Upgrade Python Essentials\"\n",
    "print(\"Original string is :\",string)\n",
    "print()\n",
    "print(\"Output of upper() is :\",string.upper())\n",
    "print(\"Output of endswith() is :\",string.endswith(\"Essentials\"))\n",
    "print(\"Output of swapcase() is :\",string.swapcase())\n",
    "print(\"Output of lower() is :\",string.lower())\n",
    "print(\"Output of strip() is :\",string.startswith(\"Upgrade\"))"
   ]
  },
  {
   "cell_type": "raw",
   "metadata": {},
   "source": [
    "Question 2: Try 5 Different functions of the List object in Python"
   ]
  },
  {
   "cell_type": "code",
   "execution_count": 36,
   "metadata": {},
   "outputs": [
    {
     "name": "stdout",
     "output_type": "stream",
     "text": [
      "Original list is : [10, 20, 30, 40, 50]\n",
      "\n",
      "Output of insert() is : [10, 20, 30, 40, 50, 60]\n",
      "Output of insert() is : [10, 20, 30, 70, 40, 50, 60]\n",
      "Output of reverse() is : [60, 50, 40, 70, 30, 20, 10]\n",
      "Output of pop() is : [60, 50, 40, 70, 30, 20]\n",
      "Output of sort() is : [20, 30, 40, 50, 60, 70]\n"
     ]
    }
   ],
   "source": [
    "ls = [10,20,30,40,50]\n",
    "print(\"Original list is :\",ls)\n",
    "print()\n",
    "ls1 = ls.append(60)\n",
    "print(\"Output of insert() is :\",ls)\n",
    "ls1 = ls.insert(3,70)\n",
    "print(\"Output of insert() is :\",ls)\n",
    "ls1 = ls.reverse()\n",
    "print(\"Output of reverse() is :\",ls)\n",
    "ls1 = ls.pop()\n",
    "print(\"Output of pop() is :\",ls)\n",
    "ls1 = ls.sort()\n",
    "print(\"Output of sort() is :\",ls)"
   ]
  },
  {
   "cell_type": "raw",
   "metadata": {},
   "source": [
    "Question 3: Experiment with at least 5 default functions of Dictionary"
   ]
  },
  {
   "cell_type": "code",
   "execution_count": 43,
   "metadata": {},
   "outputs": [
    {
     "name": "stdout",
     "output_type": "stream",
     "text": [
      "Original dictionary is : {'a': 'apple', 'b': 'ball', 'c': 'cat'}\n",
      "\n",
      "Output of keys() is : dict_keys(['a', 'b', 'c'])\n",
      "Output of values() is : dict_values(['apple', 'ball', 'cat'])\n",
      "Output of items() is : dict_items([('a', 'apple'), ('b', 'ball'), ('c', 'cat')])\n",
      "Output of update() is : {'a': 'apple', 'b': 'ball', 'c': 'cat', 'd': 'dog'}\n",
      "Output of popitem() is : ('d', 'dog')\n"
     ]
    }
   ],
   "source": [
    "d = {'a':'apple','b':'ball','c':'cat'}\n",
    "print(\"Original dictionary is :\",d)\n",
    "print()\n",
    "print(\"Output of keys() is :\",d.keys())\n",
    "print(\"Output of values() is :\",d.values())\n",
    "print(\"Output of items() is :\",d.items())\n",
    "d.update({'d':'dog'})\n",
    "print(\"Output of update() is :\",d)\n",
    "print(\"Output of popitem() is :\",d.popitem())"
   ]
  },
  {
   "cell_type": "code",
   "execution_count": null,
   "metadata": {},
   "outputs": [],
   "source": []
  },
  {
   "cell_type": "code",
   "execution_count": null,
   "metadata": {},
   "outputs": [],
   "source": []
  },
  {
   "cell_type": "code",
   "execution_count": null,
   "metadata": {},
   "outputs": [],
   "source": []
  },
  {
   "cell_type": "code",
   "execution_count": null,
   "metadata": {},
   "outputs": [],
   "source": []
  }
 ],
 "metadata": {
  "kernelspec": {
   "display_name": "Python 3",
   "language": "python",
   "name": "python3"
  },
  "language_info": {
   "codemirror_mode": {
    "name": "ipython",
    "version": 3
   },
   "file_extension": ".py",
   "mimetype": "text/x-python",
   "name": "python",
   "nbconvert_exporter": "python",
   "pygments_lexer": "ipython3",
   "version": "3.8.3"
  }
 },
 "nbformat": 4,
 "nbformat_minor": 4
}
