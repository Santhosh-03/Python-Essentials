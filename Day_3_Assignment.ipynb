{
 "cells": [
  {
   "cell_type": "raw",
   "metadata": {},
   "source": [
    "Question 1: Use IF ELSE and ELIF to write a program in python for your Report Cards."
   ]
  },
  {
   "cell_type": "code",
   "execution_count": 1,
   "metadata": {},
   "outputs": [
    {
     "name": "stdout",
     "output_type": "stream",
     "text": [
      "Enter your mark :65\n",
      "Your grade is B+\n"
     ]
    }
   ],
   "source": [
    "mark = int(input(\"Enter your mark :\"))\n",
    "if mark >= 90:\n",
    "    print(\"Your grade is O\")\n",
    "elif mark >= 80 and mark < 90:\n",
    "    print(\"Your grade is A+\")\n",
    "elif mark >= 70 and mark < 80:\n",
    "    print(\"Your grade is A\")\n",
    "elif mark >= 60 and mark < 70:\n",
    "    print(\"Your grade is B+\")\n",
    "elif mark >=50 and mark < 60:\n",
    "    print(\"Your grade is B\")\n",
    "elif mark >= 40 and mark < 50:\n",
    "    print(\"Your grade is C\")\n",
    "else:\n",
    "    print(\"Your grade is F\")"
   ]
  },
  {
   "cell_type": "raw",
   "metadata": {},
   "source": [
    "Question 2: Use For Loop to Print Prime Numbers in between 1 to 1000"
   ]
  },
  {
   "cell_type": "code",
   "execution_count": 2,
   "metadata": {},
   "outputs": [
    {
     "name": "stdout",
     "output_type": "stream",
     "text": [
      " 2   3   5   7   11   13   17   19   23   29   31   37   41   43   47   53   59   61   67   71   73   79   83   89   97   101   103   107   109   113   127   131   137   139   149   151   157   163   167   173   179   181   191   193   197   199   211   223   227   229   233   239   241   251   257   263   269   271   277   281   283   293   307   311   313   317   331   337   347   349   353   359   367   373   379   383   389   397   401   409   419   421   431   433   439   443   449   457   461   463   467   479   487   491   499   503   509   521   523   541   547   557   563   569   571   577   587   593   599   601   607   613   617   619   631   641   643   647   653   659   661   673   677   683   691   701   709   719   727   733   739   743   751   757   761   769   773   787   797   809   811   821   823   827   829   839   853   857   859   863   877   881   883   887   907   911   919   929   937   941   947   953   967   971   977   983   991   997  "
     ]
    }
   ],
   "source": [
    "for i in range (1, 1000):\n",
    "    count = 0\n",
    "    for j in range(2, (i//2 + 1)):\n",
    "        if(i % j == 0):\n",
    "            count = count + 1\n",
    "            break\n",
    "\n",
    "    if (count == 0 and i != 1):\n",
    "        print(\" %d\" %i, end = '  ')"
   ]
  },
  {
   "cell_type": "raw",
   "metadata": {},
   "source": [
    "Question 3: Write a program for printing the tables from 1,10 using Nested For Loop"
   ]
  },
  {
   "cell_type": "code",
   "execution_count": 22,
   "metadata": {},
   "outputs": [
    {
     "name": "stdout",
     "output_type": "stream",
     "text": [
      "Multiplication table for  1 :\n",
      " 1   2   3   4   5   6   7   8   9  10  \n",
      "Multiplication table for  2 :\n",
      " 2   4   6   8  10  12  14  16  18  20  \n",
      "Multiplication table for  3 :\n",
      " 3   6   9  12  15  18  21  24  27  30  \n",
      "Multiplication table for  4 :\n",
      " 4   8  12  16  20  24  28  32  36  40  \n",
      "Multiplication table for  5 :\n",
      " 5  10  15  20  25  30  35  40  45  50  \n",
      "Multiplication table for  6 :\n",
      " 6  12  18  24  30  36  42  48  54  60  \n",
      "Multiplication table for  7 :\n",
      " 7  14  21  28  35  42  49  56  63  70  \n",
      "Multiplication table for  8 :\n",
      " 8  16  24  32  40  48  56  64  72  80  \n",
      "Multiplication table for  9 :\n",
      " 9  18  27  36  45  54  63  72  81  90  \n",
      "Multiplication table for  10 :\n",
      "10  20  30  40  50  60  70  80  90  100  \n"
     ]
    }
   ],
   "source": [
    "for i in range(1,11):\n",
    "    print(\"Multiplication table for \",i, \":\") \n",
    "    for j in range(1,11):\n",
    "        print(\"{:2d}\".format(i*j),end='  ')\n",
    "    print()\n",
    "       \n"
   ]
  },
  {
   "cell_type": "raw",
   "metadata": {},
   "source": [
    "Quesyion 4: Write a program to Print X Prime Numbers using While Loop starting from 0, and take the INput of X from\n",
    "the user"
   ]
  },
  {
   "cell_type": "code",
   "execution_count": 24,
   "metadata": {},
   "outputs": [
    {
     "name": "stdout",
     "output_type": "stream",
     "text": [
      "Enter a number :8\n",
      "Prime numbers between 0 and  8 are :\n",
      "2\n",
      "3\n",
      "5\n",
      "7\n"
     ]
    }
   ],
   "source": [
    "x = int(input(\"Enter a number :\"))\n",
    "num = 1\n",
    "print(\"Prime numbers between 0 and \",x,\"are :\")\n",
    "while(num <= x):\n",
    "    count = 0\n",
    "    i = 2\n",
    "    while(i <= num // 2):\n",
    "        if(num % i == 0):\n",
    "            count += 1\n",
    "            break\n",
    "        i += 1\n",
    "    if(count == 0 and num !=1):\n",
    "        print(num)\n",
    "    num += 1"
   ]
  },
  {
   "cell_type": "code",
   "execution_count": null,
   "metadata": {},
   "outputs": [],
   "source": []
  }
 ],
 "metadata": {
  "kernelspec": {
   "display_name": "Python 3",
   "language": "python",
   "name": "python3"
  },
  "language_info": {
   "codemirror_mode": {
    "name": "ipython",
    "version": 3
   },
   "file_extension": ".py",
   "mimetype": "text/x-python",
   "name": "python",
   "nbconvert_exporter": "python",
   "pygments_lexer": "ipython3",
   "version": "3.8.3"
  }
 },
 "nbformat": 4,
 "nbformat_minor": 4
}
