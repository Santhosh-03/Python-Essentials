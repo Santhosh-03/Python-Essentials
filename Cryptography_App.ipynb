{
 "cells": [
  {
   "cell_type": "code",
   "execution_count": 2,
   "metadata": {},
   "outputs": [
    {
     "name": "stdout",
     "output_type": "stream",
     "text": [
      "Requirement already satisfied: cryptography in c:\\users\\admin\\anaconda3\\lib\\site-packages (2.9.2)\n",
      "Requirement already satisfied: cffi!=1.11.3,>=1.8 in c:\\users\\admin\\anaconda3\\lib\\site-packages (from cryptography) (1.14.0)\n",
      "Requirement already satisfied: six>=1.4.1 in c:\\users\\admin\\anaconda3\\lib\\site-packages (from cryptography) (1.15.0)\n",
      "Requirement already satisfied: pycparser in c:\\users\\admin\\anaconda3\\lib\\site-packages (from cffi!=1.11.3,>=1.8->cryptography) (2.20)\n"
     ]
    }
   ],
   "source": [
    "!pip install cryptography"
   ]
  },
  {
   "cell_type": "code",
   "execution_count": 37,
   "metadata": {},
   "outputs": [],
   "source": [
    "from cryptography.fernet import Fernet"
   ]
  },
  {
   "cell_type": "code",
   "execution_count": 38,
   "metadata": {},
   "outputs": [],
   "source": [
    "def Genrate_PassKey():\n",
    "    key = Fernet.generate_key()\n",
    "    print(key)\n",
    "    print(type(key))\n",
    "    abc = open(\"PasswordKey.key\",'wb')\n",
    "    abc.write(key)\n",
    "    abc.close()"
   ]
  },
  {
   "cell_type": "code",
   "execution_count": 39,
   "metadata": {},
   "outputs": [],
   "source": [
    "def Get_MyKey():\n",
    "    abc = open(\"PasswordKey.key\",'rb')\n",
    "    return abc.read()"
   ]
  },
  {
   "cell_type": "code",
   "execution_count": 40,
   "metadata": {},
   "outputs": [
    {
     "name": "stdout",
     "output_type": "stream",
     "text": [
      "b'gSV_RF_Qs_ABZoFXZD1jP3_2OAKiVkhud5zVIOrNZdc='\n",
      "<class 'bytes'>\n"
     ]
    }
   ],
   "source": [
    "Genrate_PassKey()"
   ]
  },
  {
   "cell_type": "code",
   "execution_count": 41,
   "metadata": {},
   "outputs": [
    {
     "data": {
      "text/plain": [
       "b'gSV_RF_Qs_ABZoFXZD1jP3_2OAKiVkhud5zVIOrNZdc='"
      ]
     },
     "execution_count": 41,
     "metadata": {},
     "output_type": "execute_result"
    }
   ],
   "source": [
    "Get_MyKey()"
   ]
  },
  {
   "cell_type": "code",
   "execution_count": 42,
   "metadata": {},
   "outputs": [],
   "source": [
    "def Encrypt_Message(message_normal):\n",
    "    key = getMyKey()\n",
    "    k = Fernet(key)\n",
    "    encrypted_Message = k.encrypt(message_normal)\n",
    "    return encrypted_Message"
   ]
  },
  {
   "cell_type": "code",
   "execution_count": 43,
   "metadata": {},
   "outputs": [],
   "source": [
    "def Decrypt_Message(message_secret):\n",
    "    key = getMyKey()\n",
    "    k = Fernet(key)\n",
    "    decrypted_Message = k.decrypt(message_secret)\n",
    "    return decrypted_Message"
   ]
  },
  {
   "cell_type": "code",
   "execution_count": 44,
   "metadata": {},
   "outputs": [],
   "source": [
    "def Get_Content_From_User():\n",
    "    return input(\"Enter the Content you want to Encrypt in your python Script\")"
   ]
  },
  {
   "cell_type": "code",
   "execution_count": 45,
   "metadata": {},
   "outputs": [
    {
     "name": "stdout",
     "output_type": "stream",
     "text": [
      "Enter the Content you want to Encrypt in your python ScriptHai , How are You??\n"
     ]
    }
   ],
   "source": [
    "data = Get_Content_From_User()\n",
    "\n",
    "Encrypted_msg = Encrypt_Message(data.encode('utf-8'))"
   ]
  },
  {
   "cell_type": "code",
   "execution_count": 46,
   "metadata": {},
   "outputs": [
    {
     "data": {
      "text/plain": [
       "b'Hai , How are You??'"
      ]
     },
     "execution_count": 46,
     "metadata": {},
     "output_type": "execute_result"
    }
   ],
   "source": [
    "Decrypt_Message(Encrypted_msg)"
   ]
  },
  {
   "cell_type": "code",
   "execution_count": 47,
   "metadata": {},
   "outputs": [
    {
     "name": "stdout",
     "output_type": "stream",
     "text": [
      "b'gAAAAABf3h1gWkkGvWNv1uagtpSCuOlLawp37bE5COj4SPUJ6MtebVeoycKLoKnh4oeAmihKyCjtEbqlNAP-RS1wWPMLhLL6rO-CXRFoutqG2EAUAnUUF8k='\n"
     ]
    }
   ],
   "source": [
    "print(Encrypted_msg)"
   ]
  },
  {
   "cell_type": "code",
   "execution_count": null,
   "metadata": {},
   "outputs": [],
   "source": []
  }
 ],
 "metadata": {
  "kernelspec": {
   "display_name": "Python 3",
   "language": "python",
   "name": "python3"
  },
  "language_info": {
   "codemirror_mode": {
    "name": "ipython",
    "version": 3
   },
   "file_extension": ".py",
   "mimetype": "text/x-python",
   "name": "python",
   "nbconvert_exporter": "python",
   "pygments_lexer": "ipython3",
   "version": "3.8.3"
  }
 },
 "nbformat": 4,
 "nbformat_minor": 4
}
